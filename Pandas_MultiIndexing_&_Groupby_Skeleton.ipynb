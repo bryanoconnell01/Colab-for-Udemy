{
  "nbformat": 4,
  "nbformat_minor": 0,
  "metadata": {
    "colab": {
      "provenance": [],
      "collapsed_sections": [],
      "include_colab_link": true
    },
    "kernelspec": {
      "name": "python3",
      "display_name": "Python 3"
    },
    "language_info": {
      "name": "python"
    }
  },
  "cells": [
    {
      "cell_type": "markdown",
      "metadata": {
        "id": "view-in-github",
        "colab_type": "text"
      },
      "source": [
        "<a href=\"https://colab.research.google.com/github/bryanoconnell01/Colab-for-Udemy/blob/main/Pandas_MultiIndexing_%26_Groupby_Skeleton.ipynb\" target=\"_parent\"><img src=\"https://colab.research.google.com/assets/colab-badge.svg\" alt=\"Open In Colab\"/></a>"
      ]
    },
    {
      "cell_type": "markdown",
      "metadata": {
        "id": "jKoO1rwMYpgu"
      },
      "source": [
        "# 1. IMPORT AND EXPLORE DATASET"
      ]
    },
    {
      "cell_type": "code",
      "source": [],
      "metadata": {
        "id": "bhoH-3RJx2UB"
      },
      "execution_count": null,
      "outputs": []
    },
    {
      "cell_type": "code",
      "metadata": {
        "id": "5xYHzxzIX96P"
      },
      "source": [
        "import pandas as pd  # BOC\n",
        "#   https://pandas.pydata.org/docs/reference/api/pandas.read_csv.html?highlight=encoding    # useful source "
      ],
      "execution_count": 2,
      "outputs": []
    },
    {
      "cell_type": "code",
      "source": [],
      "metadata": {
        "id": "AMf7-0DK3siI"
      },
      "execution_count": null,
      "outputs": []
    },
    {
      "cell_type": "code",
      "metadata": {
        "id": "4V9HiClKV0a9",
        "colab": {
          "base_uri": "https://localhost:8080/",
          "height": 624
        },
        "outputId": "84c36d1b-57eb-4528-a516-9f8f67569b07"
      },
      "source": [
        "# Import dataset using Pandas\n",
        "# Link to Dataset: https://www.kaggle.com/carrie1/ecommerce-data\n",
        "# Data contains transactions details between 01/12/2010 and 09/12/2011 for a UK-based non-store online retail.\n",
        "# The company specializes in selling unique gifts\n",
        "sales_df = pd.read_csv('ecommerce_sales.csv', encoding = 'unicode_escape')\n",
        "sales_df"
      ],
      "execution_count": 6,
      "outputs": [
        {
          "output_type": "execute_result",
          "data": {
            "text/plain": [
              "      InvoiceNo StockCode                          Description  Quantity  \\\n",
              "0        536365    85123A   WHITE HANGING HEART T-LIGHT HOLDER       6.0   \n",
              "1        536365     71053                  WHITE METAL LANTERN       6.0   \n",
              "2        536365    84406B       CREAM CUPID HEARTS COAT HANGER       8.0   \n",
              "3        536365    84029G  KNITTED UNION FLAG HOT WATER BOTTLE       6.0   \n",
              "4        536365    84029E       RED WOOLLY HOTTIE WHITE HEART.       6.0   \n",
              "...         ...       ...                                  ...       ...   \n",
              "75101    542541     22124   SET OF 2 TEA TOWELS PING MICROWAVE       1.0   \n",
              "75102    542541     22131     FOOD CONTAINER SET 3 LOVE HEART        1.0   \n",
              "75103    542541     22135           MINI LADLE LOVE HEART PINK       1.0   \n",
              "75104    542541     22148               EASTER CRAFT 4 CHICKS        3.0   \n",
              "75105    542541     22149           FELTCRAFT 6 FLOWER FRIENDS       NaN   \n",
              "\n",
              "           InvoiceDate  UnitPrice  CustomerID         Country  \n",
              "0       12/1/2010 8:26       2.55     17850.0  United Kingdom  \n",
              "1       12/1/2010 8:26       3.39     17850.0  United Kingdom  \n",
              "2       12/1/2010 8:26       2.75     17850.0  United Kingdom  \n",
              "3       12/1/2010 8:26       3.39     17850.0  United Kingdom  \n",
              "4       12/1/2010 8:26       3.39     17850.0  United Kingdom  \n",
              "...                ...        ...         ...             ...  \n",
              "75101  1/28/2011 14:25       2.46         NaN  United Kingdom  \n",
              "75102  1/28/2011 14:25       4.13         NaN  United Kingdom  \n",
              "75103  1/28/2011 14:25       0.83         NaN  United Kingdom  \n",
              "75104  1/28/2011 14:25       4.13         NaN  United Kingdom  \n",
              "75105              NaN        NaN         NaN             NaN  \n",
              "\n",
              "[75106 rows x 8 columns]"
            ],
            "text/html": [
              "\n",
              "  <div id=\"df-7fe8d30c-1230-434c-9819-8000aeba4d20\">\n",
              "    <div class=\"colab-df-container\">\n",
              "      <div>\n",
              "<style scoped>\n",
              "    .dataframe tbody tr th:only-of-type {\n",
              "        vertical-align: middle;\n",
              "    }\n",
              "\n",
              "    .dataframe tbody tr th {\n",
              "        vertical-align: top;\n",
              "    }\n",
              "\n",
              "    .dataframe thead th {\n",
              "        text-align: right;\n",
              "    }\n",
              "</style>\n",
              "<table border=\"1\" class=\"dataframe\">\n",
              "  <thead>\n",
              "    <tr style=\"text-align: right;\">\n",
              "      <th></th>\n",
              "      <th>InvoiceNo</th>\n",
              "      <th>StockCode</th>\n",
              "      <th>Description</th>\n",
              "      <th>Quantity</th>\n",
              "      <th>InvoiceDate</th>\n",
              "      <th>UnitPrice</th>\n",
              "      <th>CustomerID</th>\n",
              "      <th>Country</th>\n",
              "    </tr>\n",
              "  </thead>\n",
              "  <tbody>\n",
              "    <tr>\n",
              "      <th>0</th>\n",
              "      <td>536365</td>\n",
              "      <td>85123A</td>\n",
              "      <td>WHITE HANGING HEART T-LIGHT HOLDER</td>\n",
              "      <td>6.0</td>\n",
              "      <td>12/1/2010 8:26</td>\n",
              "      <td>2.55</td>\n",
              "      <td>17850.0</td>\n",
              "      <td>United Kingdom</td>\n",
              "    </tr>\n",
              "    <tr>\n",
              "      <th>1</th>\n",
              "      <td>536365</td>\n",
              "      <td>71053</td>\n",
              "      <td>WHITE METAL LANTERN</td>\n",
              "      <td>6.0</td>\n",
              "      <td>12/1/2010 8:26</td>\n",
              "      <td>3.39</td>\n",
              "      <td>17850.0</td>\n",
              "      <td>United Kingdom</td>\n",
              "    </tr>\n",
              "    <tr>\n",
              "      <th>2</th>\n",
              "      <td>536365</td>\n",
              "      <td>84406B</td>\n",
              "      <td>CREAM CUPID HEARTS COAT HANGER</td>\n",
              "      <td>8.0</td>\n",
              "      <td>12/1/2010 8:26</td>\n",
              "      <td>2.75</td>\n",
              "      <td>17850.0</td>\n",
              "      <td>United Kingdom</td>\n",
              "    </tr>\n",
              "    <tr>\n",
              "      <th>3</th>\n",
              "      <td>536365</td>\n",
              "      <td>84029G</td>\n",
              "      <td>KNITTED UNION FLAG HOT WATER BOTTLE</td>\n",
              "      <td>6.0</td>\n",
              "      <td>12/1/2010 8:26</td>\n",
              "      <td>3.39</td>\n",
              "      <td>17850.0</td>\n",
              "      <td>United Kingdom</td>\n",
              "    </tr>\n",
              "    <tr>\n",
              "      <th>4</th>\n",
              "      <td>536365</td>\n",
              "      <td>84029E</td>\n",
              "      <td>RED WOOLLY HOTTIE WHITE HEART.</td>\n",
              "      <td>6.0</td>\n",
              "      <td>12/1/2010 8:26</td>\n",
              "      <td>3.39</td>\n",
              "      <td>17850.0</td>\n",
              "      <td>United Kingdom</td>\n",
              "    </tr>\n",
              "    <tr>\n",
              "      <th>...</th>\n",
              "      <td>...</td>\n",
              "      <td>...</td>\n",
              "      <td>...</td>\n",
              "      <td>...</td>\n",
              "      <td>...</td>\n",
              "      <td>...</td>\n",
              "      <td>...</td>\n",
              "      <td>...</td>\n",
              "    </tr>\n",
              "    <tr>\n",
              "      <th>75101</th>\n",
              "      <td>542541</td>\n",
              "      <td>22124</td>\n",
              "      <td>SET OF 2 TEA TOWELS PING MICROWAVE</td>\n",
              "      <td>1.0</td>\n",
              "      <td>1/28/2011 14:25</td>\n",
              "      <td>2.46</td>\n",
              "      <td>NaN</td>\n",
              "      <td>United Kingdom</td>\n",
              "    </tr>\n",
              "    <tr>\n",
              "      <th>75102</th>\n",
              "      <td>542541</td>\n",
              "      <td>22131</td>\n",
              "      <td>FOOD CONTAINER SET 3 LOVE HEART</td>\n",
              "      <td>1.0</td>\n",
              "      <td>1/28/2011 14:25</td>\n",
              "      <td>4.13</td>\n",
              "      <td>NaN</td>\n",
              "      <td>United Kingdom</td>\n",
              "    </tr>\n",
              "    <tr>\n",
              "      <th>75103</th>\n",
              "      <td>542541</td>\n",
              "      <td>22135</td>\n",
              "      <td>MINI LADLE LOVE HEART PINK</td>\n",
              "      <td>1.0</td>\n",
              "      <td>1/28/2011 14:25</td>\n",
              "      <td>0.83</td>\n",
              "      <td>NaN</td>\n",
              "      <td>United Kingdom</td>\n",
              "    </tr>\n",
              "    <tr>\n",
              "      <th>75104</th>\n",
              "      <td>542541</td>\n",
              "      <td>22148</td>\n",
              "      <td>EASTER CRAFT 4 CHICKS</td>\n",
              "      <td>3.0</td>\n",
              "      <td>1/28/2011 14:25</td>\n",
              "      <td>4.13</td>\n",
              "      <td>NaN</td>\n",
              "      <td>United Kingdom</td>\n",
              "    </tr>\n",
              "    <tr>\n",
              "      <th>75105</th>\n",
              "      <td>542541</td>\n",
              "      <td>22149</td>\n",
              "      <td>FELTCRAFT 6 FLOWER FRIENDS</td>\n",
              "      <td>NaN</td>\n",
              "      <td>NaN</td>\n",
              "      <td>NaN</td>\n",
              "      <td>NaN</td>\n",
              "      <td>NaN</td>\n",
              "    </tr>\n",
              "  </tbody>\n",
              "</table>\n",
              "<p>75106 rows × 8 columns</p>\n",
              "</div>\n",
              "      <button class=\"colab-df-convert\" onclick=\"convertToInteractive('df-7fe8d30c-1230-434c-9819-8000aeba4d20')\"\n",
              "              title=\"Convert this dataframe to an interactive table.\"\n",
              "              style=\"display:none;\">\n",
              "        \n",
              "  <svg xmlns=\"http://www.w3.org/2000/svg\" height=\"24px\"viewBox=\"0 0 24 24\"\n",
              "       width=\"24px\">\n",
              "    <path d=\"M0 0h24v24H0V0z\" fill=\"none\"/>\n",
              "    <path d=\"M18.56 5.44l.94 2.06.94-2.06 2.06-.94-2.06-.94-.94-2.06-.94 2.06-2.06.94zm-11 1L8.5 8.5l.94-2.06 2.06-.94-2.06-.94L8.5 2.5l-.94 2.06-2.06.94zm10 10l.94 2.06.94-2.06 2.06-.94-2.06-.94-.94-2.06-.94 2.06-2.06.94z\"/><path d=\"M17.41 7.96l-1.37-1.37c-.4-.4-.92-.59-1.43-.59-.52 0-1.04.2-1.43.59L10.3 9.45l-7.72 7.72c-.78.78-.78 2.05 0 2.83L4 21.41c.39.39.9.59 1.41.59.51 0 1.02-.2 1.41-.59l7.78-7.78 2.81-2.81c.8-.78.8-2.07 0-2.86zM5.41 20L4 18.59l7.72-7.72 1.47 1.35L5.41 20z\"/>\n",
              "  </svg>\n",
              "      </button>\n",
              "      \n",
              "  <style>\n",
              "    .colab-df-container {\n",
              "      display:flex;\n",
              "      flex-wrap:wrap;\n",
              "      gap: 12px;\n",
              "    }\n",
              "\n",
              "    .colab-df-convert {\n",
              "      background-color: #E8F0FE;\n",
              "      border: none;\n",
              "      border-radius: 50%;\n",
              "      cursor: pointer;\n",
              "      display: none;\n",
              "      fill: #1967D2;\n",
              "      height: 32px;\n",
              "      padding: 0 0 0 0;\n",
              "      width: 32px;\n",
              "    }\n",
              "\n",
              "    .colab-df-convert:hover {\n",
              "      background-color: #E2EBFA;\n",
              "      box-shadow: 0px 1px 2px rgba(60, 64, 67, 0.3), 0px 1px 3px 1px rgba(60, 64, 67, 0.15);\n",
              "      fill: #174EA6;\n",
              "    }\n",
              "\n",
              "    [theme=dark] .colab-df-convert {\n",
              "      background-color: #3B4455;\n",
              "      fill: #D2E3FC;\n",
              "    }\n",
              "\n",
              "    [theme=dark] .colab-df-convert:hover {\n",
              "      background-color: #434B5C;\n",
              "      box-shadow: 0px 1px 3px 1px rgba(0, 0, 0, 0.15);\n",
              "      filter: drop-shadow(0px 1px 2px rgba(0, 0, 0, 0.3));\n",
              "      fill: #FFFFFF;\n",
              "    }\n",
              "  </style>\n",
              "\n",
              "      <script>\n",
              "        const buttonEl =\n",
              "          document.querySelector('#df-7fe8d30c-1230-434c-9819-8000aeba4d20 button.colab-df-convert');\n",
              "        buttonEl.style.display =\n",
              "          google.colab.kernel.accessAllowed ? 'block' : 'none';\n",
              "\n",
              "        async function convertToInteractive(key) {\n",
              "          const element = document.querySelector('#df-7fe8d30c-1230-434c-9819-8000aeba4d20');\n",
              "          const dataTable =\n",
              "            await google.colab.kernel.invokeFunction('convertToInteractive',\n",
              "                                                     [key], {});\n",
              "          if (!dataTable) return;\n",
              "\n",
              "          const docLinkHtml = 'Like what you see? Visit the ' +\n",
              "            '<a target=\"_blank\" href=https://colab.research.google.com/notebooks/data_table.ipynb>data table notebook</a>'\n",
              "            + ' to learn more about interactive tables.';\n",
              "          element.innerHTML = '';\n",
              "          dataTable['output_type'] = 'display_data';\n",
              "          await google.colab.output.renderOutput(dataTable, element);\n",
              "          const docLink = document.createElement('div');\n",
              "          docLink.innerHTML = docLinkHtml;\n",
              "          element.appendChild(docLink);\n",
              "        }\n",
              "      </script>\n",
              "    </div>\n",
              "  </div>\n",
              "  "
            ]
          },
          "metadata": {},
          "execution_count": 6
        }
      ]
    },
    {
      "cell_type": "code",
      "source": [
        "sales_df.info()   # boc line"
      ],
      "metadata": {
        "colab": {
          "base_uri": "https://localhost:8080/"
        },
        "id": "bGNzwXdv3tkv",
        "outputId": "4c275e58-804f-4fad-88ba-18394df972c5"
      },
      "execution_count": 4,
      "outputs": [
        {
          "output_type": "stream",
          "name": "stdout",
          "text": [
            "<class 'pandas.core.frame.DataFrame'>\n",
            "RangeIndex: 200594 entries, 0 to 200593\n",
            "Data columns (total 8 columns):\n",
            " #   Column       Non-Null Count   Dtype  \n",
            "---  ------       --------------   -----  \n",
            " 0   InvoiceNo    200594 non-null  object \n",
            " 1   StockCode    200594 non-null  object \n",
            " 2   Description  199802 non-null  object \n",
            " 3   Quantity     200594 non-null  int64  \n",
            " 4   InvoiceDate  200594 non-null  object \n",
            " 5   UnitPrice    200593 non-null  float64\n",
            " 6   CustomerID   142574 non-null  float64\n",
            " 7   Country      200593 non-null  object \n",
            "dtypes: float64(2), int64(1), object(5)\n",
            "memory usage: 12.2+ MB\n"
          ]
        }
      ]
    },
    {
      "cell_type": "code",
      "metadata": {
        "id": "SUvuMDoaXfmR",
        "colab": {
          "base_uri": "https://localhost:8080/"
        },
        "outputId": "2aba0a1b-e98b-43c0-8522-4d03ca9458b5"
      },
      "source": [
        "# Let's view the types of data\n",
        "# Note that InvoiceDate is in object format, we will need to convert it into Datetime format\n",
        "sales_df.info()"
      ],
      "execution_count": 6,
      "outputs": [
        {
          "output_type": "stream",
          "name": "stdout",
          "text": [
            "<class 'pandas.core.frame.DataFrame'>\n",
            "RangeIndex: 200594 entries, 0 to 200593\n",
            "Data columns (total 8 columns):\n",
            " #   Column       Non-Null Count   Dtype  \n",
            "---  ------       --------------   -----  \n",
            " 0   InvoiceNo    200594 non-null  object \n",
            " 1   StockCode    200594 non-null  object \n",
            " 2   Description  199802 non-null  object \n",
            " 3   Quantity     200594 non-null  int64  \n",
            " 4   InvoiceDate  200594 non-null  object \n",
            " 5   UnitPrice    200593 non-null  float64\n",
            " 6   CustomerID   142574 non-null  float64\n",
            " 7   Country      200593 non-null  object \n",
            "dtypes: float64(2), int64(1), object(5)\n",
            "memory usage: 12.2+ MB\n"
          ]
        }
      ]
    },
    {
      "cell_type": "code",
      "source": [
        "sales_df.tail(10)   # loks like not all the lines were written "
      ],
      "metadata": {
        "colab": {
          "base_uri": "https://localhost:8080/",
          "height": 407
        },
        "id": "X7p-Qi815max",
        "outputId": "d7e3c9eb-602d-46dd-b8be-e437288a6698"
      },
      "execution_count": 7,
      "outputs": [
        {
          "output_type": "execute_result",
          "data": {
            "text/plain": [
              "       InvoiceNo StockCode                    Description  Quantity  \\\n",
              "200584    554147     22037            ROBOT BIRTHDAY CARD        12   \n",
              "200585    554147     22969   HOMEMADE JAM SCENTED CANDLES        12   \n",
              "200586    554147      POST                        POSTAGE         2   \n",
              "200587    554147     21746   SMALL RED RETROSPOT WINDMILL        12   \n",
              "200588    554147     23084             RABBIT NIGHT LIGHT         6   \n",
              "200589    554147     21749   LARGE RED RETROSPOT WINDMILL         6   \n",
              "200590    554147     23199               JUMBO BAG APPLES        10   \n",
              "200591    554147     23256    CHILDRENS CUTLERY SPACEBOY          4   \n",
              "200592    554147     23254  CHILDRENS CUTLERY DOLLY GIRL          4   \n",
              "200593    554147     23204    CHARLOTTE BAG APPLES DESIGN        10   \n",
              "\n",
              "            InvoiceDate  UnitPrice  CustomerID  Country  \n",
              "200584  5/23/2011 10:48       0.42     12423.0  Belgium  \n",
              "200585  5/23/2011 10:48       1.45     12423.0  Belgium  \n",
              "200586  5/23/2011 10:48      15.00     12423.0  Belgium  \n",
              "200587  5/23/2011 10:48       1.25     12423.0  Belgium  \n",
              "200588  5/23/2011 10:48       2.08     12423.0  Belgium  \n",
              "200589  5/23/2011 10:48       2.10     12423.0  Belgium  \n",
              "200590  5/23/2011 10:48       2.08     12423.0  Belgium  \n",
              "200591  5/23/2011 10:48       4.15     12423.0  Belgium  \n",
              "200592  5/23/2011 10:48       4.15     12423.0  Belgium  \n",
              "200593   5/23/2011 10:4        NaN         NaN      NaN  "
            ],
            "text/html": [
              "\n",
              "  <div id=\"df-bf6e4c82-631a-4c4f-9196-346be8988382\">\n",
              "    <div class=\"colab-df-container\">\n",
              "      <div>\n",
              "<style scoped>\n",
              "    .dataframe tbody tr th:only-of-type {\n",
              "        vertical-align: middle;\n",
              "    }\n",
              "\n",
              "    .dataframe tbody tr th {\n",
              "        vertical-align: top;\n",
              "    }\n",
              "\n",
              "    .dataframe thead th {\n",
              "        text-align: right;\n",
              "    }\n",
              "</style>\n",
              "<table border=\"1\" class=\"dataframe\">\n",
              "  <thead>\n",
              "    <tr style=\"text-align: right;\">\n",
              "      <th></th>\n",
              "      <th>InvoiceNo</th>\n",
              "      <th>StockCode</th>\n",
              "      <th>Description</th>\n",
              "      <th>Quantity</th>\n",
              "      <th>InvoiceDate</th>\n",
              "      <th>UnitPrice</th>\n",
              "      <th>CustomerID</th>\n",
              "      <th>Country</th>\n",
              "    </tr>\n",
              "  </thead>\n",
              "  <tbody>\n",
              "    <tr>\n",
              "      <th>200584</th>\n",
              "      <td>554147</td>\n",
              "      <td>22037</td>\n",
              "      <td>ROBOT BIRTHDAY CARD</td>\n",
              "      <td>12</td>\n",
              "      <td>5/23/2011 10:48</td>\n",
              "      <td>0.42</td>\n",
              "      <td>12423.0</td>\n",
              "      <td>Belgium</td>\n",
              "    </tr>\n",
              "    <tr>\n",
              "      <th>200585</th>\n",
              "      <td>554147</td>\n",
              "      <td>22969</td>\n",
              "      <td>HOMEMADE JAM SCENTED CANDLES</td>\n",
              "      <td>12</td>\n",
              "      <td>5/23/2011 10:48</td>\n",
              "      <td>1.45</td>\n",
              "      <td>12423.0</td>\n",
              "      <td>Belgium</td>\n",
              "    </tr>\n",
              "    <tr>\n",
              "      <th>200586</th>\n",
              "      <td>554147</td>\n",
              "      <td>POST</td>\n",
              "      <td>POSTAGE</td>\n",
              "      <td>2</td>\n",
              "      <td>5/23/2011 10:48</td>\n",
              "      <td>15.00</td>\n",
              "      <td>12423.0</td>\n",
              "      <td>Belgium</td>\n",
              "    </tr>\n",
              "    <tr>\n",
              "      <th>200587</th>\n",
              "      <td>554147</td>\n",
              "      <td>21746</td>\n",
              "      <td>SMALL RED RETROSPOT WINDMILL</td>\n",
              "      <td>12</td>\n",
              "      <td>5/23/2011 10:48</td>\n",
              "      <td>1.25</td>\n",
              "      <td>12423.0</td>\n",
              "      <td>Belgium</td>\n",
              "    </tr>\n",
              "    <tr>\n",
              "      <th>200588</th>\n",
              "      <td>554147</td>\n",
              "      <td>23084</td>\n",
              "      <td>RABBIT NIGHT LIGHT</td>\n",
              "      <td>6</td>\n",
              "      <td>5/23/2011 10:48</td>\n",
              "      <td>2.08</td>\n",
              "      <td>12423.0</td>\n",
              "      <td>Belgium</td>\n",
              "    </tr>\n",
              "    <tr>\n",
              "      <th>200589</th>\n",
              "      <td>554147</td>\n",
              "      <td>21749</td>\n",
              "      <td>LARGE RED RETROSPOT WINDMILL</td>\n",
              "      <td>6</td>\n",
              "      <td>5/23/2011 10:48</td>\n",
              "      <td>2.10</td>\n",
              "      <td>12423.0</td>\n",
              "      <td>Belgium</td>\n",
              "    </tr>\n",
              "    <tr>\n",
              "      <th>200590</th>\n",
              "      <td>554147</td>\n",
              "      <td>23199</td>\n",
              "      <td>JUMBO BAG APPLES</td>\n",
              "      <td>10</td>\n",
              "      <td>5/23/2011 10:48</td>\n",
              "      <td>2.08</td>\n",
              "      <td>12423.0</td>\n",
              "      <td>Belgium</td>\n",
              "    </tr>\n",
              "    <tr>\n",
              "      <th>200591</th>\n",
              "      <td>554147</td>\n",
              "      <td>23256</td>\n",
              "      <td>CHILDRENS CUTLERY SPACEBOY</td>\n",
              "      <td>4</td>\n",
              "      <td>5/23/2011 10:48</td>\n",
              "      <td>4.15</td>\n",
              "      <td>12423.0</td>\n",
              "      <td>Belgium</td>\n",
              "    </tr>\n",
              "    <tr>\n",
              "      <th>200592</th>\n",
              "      <td>554147</td>\n",
              "      <td>23254</td>\n",
              "      <td>CHILDRENS CUTLERY DOLLY GIRL</td>\n",
              "      <td>4</td>\n",
              "      <td>5/23/2011 10:48</td>\n",
              "      <td>4.15</td>\n",
              "      <td>12423.0</td>\n",
              "      <td>Belgium</td>\n",
              "    </tr>\n",
              "    <tr>\n",
              "      <th>200593</th>\n",
              "      <td>554147</td>\n",
              "      <td>23204</td>\n",
              "      <td>CHARLOTTE BAG APPLES DESIGN</td>\n",
              "      <td>10</td>\n",
              "      <td>5/23/2011 10:4</td>\n",
              "      <td>NaN</td>\n",
              "      <td>NaN</td>\n",
              "      <td>NaN</td>\n",
              "    </tr>\n",
              "  </tbody>\n",
              "</table>\n",
              "</div>\n",
              "      <button class=\"colab-df-convert\" onclick=\"convertToInteractive('df-bf6e4c82-631a-4c4f-9196-346be8988382')\"\n",
              "              title=\"Convert this dataframe to an interactive table.\"\n",
              "              style=\"display:none;\">\n",
              "        \n",
              "  <svg xmlns=\"http://www.w3.org/2000/svg\" height=\"24px\"viewBox=\"0 0 24 24\"\n",
              "       width=\"24px\">\n",
              "    <path d=\"M0 0h24v24H0V0z\" fill=\"none\"/>\n",
              "    <path d=\"M18.56 5.44l.94 2.06.94-2.06 2.06-.94-2.06-.94-.94-2.06-.94 2.06-2.06.94zm-11 1L8.5 8.5l.94-2.06 2.06-.94-2.06-.94L8.5 2.5l-.94 2.06-2.06.94zm10 10l.94 2.06.94-2.06 2.06-.94-2.06-.94-.94-2.06-.94 2.06-2.06.94z\"/><path d=\"M17.41 7.96l-1.37-1.37c-.4-.4-.92-.59-1.43-.59-.52 0-1.04.2-1.43.59L10.3 9.45l-7.72 7.72c-.78.78-.78 2.05 0 2.83L4 21.41c.39.39.9.59 1.41.59.51 0 1.02-.2 1.41-.59l7.78-7.78 2.81-2.81c.8-.78.8-2.07 0-2.86zM5.41 20L4 18.59l7.72-7.72 1.47 1.35L5.41 20z\"/>\n",
              "  </svg>\n",
              "      </button>\n",
              "      \n",
              "  <style>\n",
              "    .colab-df-container {\n",
              "      display:flex;\n",
              "      flex-wrap:wrap;\n",
              "      gap: 12px;\n",
              "    }\n",
              "\n",
              "    .colab-df-convert {\n",
              "      background-color: #E8F0FE;\n",
              "      border: none;\n",
              "      border-radius: 50%;\n",
              "      cursor: pointer;\n",
              "      display: none;\n",
              "      fill: #1967D2;\n",
              "      height: 32px;\n",
              "      padding: 0 0 0 0;\n",
              "      width: 32px;\n",
              "    }\n",
              "\n",
              "    .colab-df-convert:hover {\n",
              "      background-color: #E2EBFA;\n",
              "      box-shadow: 0px 1px 2px rgba(60, 64, 67, 0.3), 0px 1px 3px 1px rgba(60, 64, 67, 0.15);\n",
              "      fill: #174EA6;\n",
              "    }\n",
              "\n",
              "    [theme=dark] .colab-df-convert {\n",
              "      background-color: #3B4455;\n",
              "      fill: #D2E3FC;\n",
              "    }\n",
              "\n",
              "    [theme=dark] .colab-df-convert:hover {\n",
              "      background-color: #434B5C;\n",
              "      box-shadow: 0px 1px 3px 1px rgba(0, 0, 0, 0.15);\n",
              "      filter: drop-shadow(0px 1px 2px rgba(0, 0, 0, 0.3));\n",
              "      fill: #FFFFFF;\n",
              "    }\n",
              "  </style>\n",
              "\n",
              "      <script>\n",
              "        const buttonEl =\n",
              "          document.querySelector('#df-bf6e4c82-631a-4c4f-9196-346be8988382 button.colab-df-convert');\n",
              "        buttonEl.style.display =\n",
              "          google.colab.kernel.accessAllowed ? 'block' : 'none';\n",
              "\n",
              "        async function convertToInteractive(key) {\n",
              "          const element = document.querySelector('#df-bf6e4c82-631a-4c4f-9196-346be8988382');\n",
              "          const dataTable =\n",
              "            await google.colab.kernel.invokeFunction('convertToInteractive',\n",
              "                                                     [key], {});\n",
              "          if (!dataTable) return;\n",
              "\n",
              "          const docLinkHtml = 'Like what you see? Visit the ' +\n",
              "            '<a target=\"_blank\" href=https://colab.research.google.com/notebooks/data_table.ipynb>data table notebook</a>'\n",
              "            + ' to learn more about interactive tables.';\n",
              "          element.innerHTML = '';\n",
              "          dataTable['output_type'] = 'display_data';\n",
              "          await google.colab.output.renderOutput(dataTable, element);\n",
              "          const docLink = document.createElement('div');\n",
              "          docLink.innerHTML = docLinkHtml;\n",
              "          element.appendChild(docLink);\n",
              "        }\n",
              "      </script>\n",
              "    </div>\n",
              "  </div>\n",
              "  "
            ]
          },
          "metadata": {},
          "execution_count": 7
        }
      ]
    },
    {
      "cell_type": "code",
      "source": [],
      "metadata": {
        "id": "4FI6hcsG5mks"
      },
      "execution_count": null,
      "outputs": []
    },
    {
      "cell_type": "code",
      "source": [
        "## Note some missing elements "
      ],
      "metadata": {
        "id": "HJI7ksNQ45CD"
      },
      "execution_count": null,
      "outputs": []
    },
    {
      "cell_type": "code",
      "source": [
        "import pandas as pd  # BOC"
      ],
      "metadata": {
        "id": "uHkE4GGSqyQD"
      },
      "execution_count": 2,
      "outputs": []
    },
    {
      "cell_type": "code",
      "metadata": {
        "id": "3OqZHku_kte7"
      },
      "source": [
        "# Convert Invoice date to datetime format\n",
        "sales_df['InvoiceDate'] = pd.to_datetime(sales_df['InvoiceDate'])"
      ],
      "execution_count": 7,
      "outputs": []
    },
    {
      "cell_type": "code",
      "metadata": {
        "id": "jeWktbLylF9S",
        "colab": {
          "base_uri": "https://localhost:8080/"
        },
        "outputId": "cb811a66-3427-4e85-9c63-213434dcfe08"
      },
      "source": [
        "# Check datatype again to confirm!\n",
        "sales_df.info()"
      ],
      "execution_count": 8,
      "outputs": [
        {
          "output_type": "stream",
          "name": "stdout",
          "text": [
            "<class 'pandas.core.frame.DataFrame'>\n",
            "RangeIndex: 75106 entries, 0 to 75105\n",
            "Data columns (total 8 columns):\n",
            " #   Column       Non-Null Count  Dtype         \n",
            "---  ------       --------------  -----         \n",
            " 0   InvoiceNo    75106 non-null  object        \n",
            " 1   StockCode    75106 non-null  object        \n",
            " 2   Description  74903 non-null  object        \n",
            " 3   Quantity     75105 non-null  float64       \n",
            " 4   InvoiceDate  75105 non-null  datetime64[ns]\n",
            " 5   UnitPrice    75105 non-null  float64       \n",
            " 6   CustomerID   46828 non-null  float64       \n",
            " 7   Country      75105 non-null  object        \n",
            "dtypes: datetime64[ns](1), float64(3), object(4)\n",
            "memory usage: 4.6+ MB\n"
          ]
        }
      ]
    },
    {
      "cell_type": "code",
      "metadata": {
        "id": "Yjrmrf2zYSz8",
        "colab": {
          "base_uri": "https://localhost:8080/",
          "height": 424
        },
        "outputId": "990bb18e-33d2-4a82-a844-711d2129c72b"
      },
      "source": [
        "# Check the number of Null values in the data\n",
        "sales_df.isnull()"
      ],
      "execution_count": 10,
      "outputs": [
        {
          "output_type": "execute_result",
          "data": {
            "text/plain": [
              "       InvoiceNo  StockCode  Description  Quantity  InvoiceDate  UnitPrice  \\\n",
              "0          False      False        False     False        False      False   \n",
              "1          False      False        False     False        False      False   \n",
              "2          False      False        False     False        False      False   \n",
              "3          False      False        False     False        False      False   \n",
              "4          False      False        False     False        False      False   \n",
              "...          ...        ...          ...       ...          ...        ...   \n",
              "75101      False      False        False     False        False      False   \n",
              "75102      False      False        False     False        False      False   \n",
              "75103      False      False        False     False        False      False   \n",
              "75104      False      False        False     False        False      False   \n",
              "75105      False      False        False      True         True       True   \n",
              "\n",
              "       CustomerID  Country  \n",
              "0           False    False  \n",
              "1           False    False  \n",
              "2           False    False  \n",
              "3           False    False  \n",
              "4           False    False  \n",
              "...           ...      ...  \n",
              "75101        True    False  \n",
              "75102        True    False  \n",
              "75103        True    False  \n",
              "75104        True    False  \n",
              "75105        True     True  \n",
              "\n",
              "[75106 rows x 8 columns]"
            ],
            "text/html": [
              "\n",
              "  <div id=\"df-9504c957-6104-4224-9e69-eee34cfa0c08\">\n",
              "    <div class=\"colab-df-container\">\n",
              "      <div>\n",
              "<style scoped>\n",
              "    .dataframe tbody tr th:only-of-type {\n",
              "        vertical-align: middle;\n",
              "    }\n",
              "\n",
              "    .dataframe tbody tr th {\n",
              "        vertical-align: top;\n",
              "    }\n",
              "\n",
              "    .dataframe thead th {\n",
              "        text-align: right;\n",
              "    }\n",
              "</style>\n",
              "<table border=\"1\" class=\"dataframe\">\n",
              "  <thead>\n",
              "    <tr style=\"text-align: right;\">\n",
              "      <th></th>\n",
              "      <th>InvoiceNo</th>\n",
              "      <th>StockCode</th>\n",
              "      <th>Description</th>\n",
              "      <th>Quantity</th>\n",
              "      <th>InvoiceDate</th>\n",
              "      <th>UnitPrice</th>\n",
              "      <th>CustomerID</th>\n",
              "      <th>Country</th>\n",
              "    </tr>\n",
              "  </thead>\n",
              "  <tbody>\n",
              "    <tr>\n",
              "      <th>0</th>\n",
              "      <td>False</td>\n",
              "      <td>False</td>\n",
              "      <td>False</td>\n",
              "      <td>False</td>\n",
              "      <td>False</td>\n",
              "      <td>False</td>\n",
              "      <td>False</td>\n",
              "      <td>False</td>\n",
              "    </tr>\n",
              "    <tr>\n",
              "      <th>1</th>\n",
              "      <td>False</td>\n",
              "      <td>False</td>\n",
              "      <td>False</td>\n",
              "      <td>False</td>\n",
              "      <td>False</td>\n",
              "      <td>False</td>\n",
              "      <td>False</td>\n",
              "      <td>False</td>\n",
              "    </tr>\n",
              "    <tr>\n",
              "      <th>2</th>\n",
              "      <td>False</td>\n",
              "      <td>False</td>\n",
              "      <td>False</td>\n",
              "      <td>False</td>\n",
              "      <td>False</td>\n",
              "      <td>False</td>\n",
              "      <td>False</td>\n",
              "      <td>False</td>\n",
              "    </tr>\n",
              "    <tr>\n",
              "      <th>3</th>\n",
              "      <td>False</td>\n",
              "      <td>False</td>\n",
              "      <td>False</td>\n",
              "      <td>False</td>\n",
              "      <td>False</td>\n",
              "      <td>False</td>\n",
              "      <td>False</td>\n",
              "      <td>False</td>\n",
              "    </tr>\n",
              "    <tr>\n",
              "      <th>4</th>\n",
              "      <td>False</td>\n",
              "      <td>False</td>\n",
              "      <td>False</td>\n",
              "      <td>False</td>\n",
              "      <td>False</td>\n",
              "      <td>False</td>\n",
              "      <td>False</td>\n",
              "      <td>False</td>\n",
              "    </tr>\n",
              "    <tr>\n",
              "      <th>...</th>\n",
              "      <td>...</td>\n",
              "      <td>...</td>\n",
              "      <td>...</td>\n",
              "      <td>...</td>\n",
              "      <td>...</td>\n",
              "      <td>...</td>\n",
              "      <td>...</td>\n",
              "      <td>...</td>\n",
              "    </tr>\n",
              "    <tr>\n",
              "      <th>75101</th>\n",
              "      <td>False</td>\n",
              "      <td>False</td>\n",
              "      <td>False</td>\n",
              "      <td>False</td>\n",
              "      <td>False</td>\n",
              "      <td>False</td>\n",
              "      <td>True</td>\n",
              "      <td>False</td>\n",
              "    </tr>\n",
              "    <tr>\n",
              "      <th>75102</th>\n",
              "      <td>False</td>\n",
              "      <td>False</td>\n",
              "      <td>False</td>\n",
              "      <td>False</td>\n",
              "      <td>False</td>\n",
              "      <td>False</td>\n",
              "      <td>True</td>\n",
              "      <td>False</td>\n",
              "    </tr>\n",
              "    <tr>\n",
              "      <th>75103</th>\n",
              "      <td>False</td>\n",
              "      <td>False</td>\n",
              "      <td>False</td>\n",
              "      <td>False</td>\n",
              "      <td>False</td>\n",
              "      <td>False</td>\n",
              "      <td>True</td>\n",
              "      <td>False</td>\n",
              "    </tr>\n",
              "    <tr>\n",
              "      <th>75104</th>\n",
              "      <td>False</td>\n",
              "      <td>False</td>\n",
              "      <td>False</td>\n",
              "      <td>False</td>\n",
              "      <td>False</td>\n",
              "      <td>False</td>\n",
              "      <td>True</td>\n",
              "      <td>False</td>\n",
              "    </tr>\n",
              "    <tr>\n",
              "      <th>75105</th>\n",
              "      <td>False</td>\n",
              "      <td>False</td>\n",
              "      <td>False</td>\n",
              "      <td>True</td>\n",
              "      <td>True</td>\n",
              "      <td>True</td>\n",
              "      <td>True</td>\n",
              "      <td>True</td>\n",
              "    </tr>\n",
              "  </tbody>\n",
              "</table>\n",
              "<p>75106 rows × 8 columns</p>\n",
              "</div>\n",
              "      <button class=\"colab-df-convert\" onclick=\"convertToInteractive('df-9504c957-6104-4224-9e69-eee34cfa0c08')\"\n",
              "              title=\"Convert this dataframe to an interactive table.\"\n",
              "              style=\"display:none;\">\n",
              "        \n",
              "  <svg xmlns=\"http://www.w3.org/2000/svg\" height=\"24px\"viewBox=\"0 0 24 24\"\n",
              "       width=\"24px\">\n",
              "    <path d=\"M0 0h24v24H0V0z\" fill=\"none\"/>\n",
              "    <path d=\"M18.56 5.44l.94 2.06.94-2.06 2.06-.94-2.06-.94-.94-2.06-.94 2.06-2.06.94zm-11 1L8.5 8.5l.94-2.06 2.06-.94-2.06-.94L8.5 2.5l-.94 2.06-2.06.94zm10 10l.94 2.06.94-2.06 2.06-.94-2.06-.94-.94-2.06-.94 2.06-2.06.94z\"/><path d=\"M17.41 7.96l-1.37-1.37c-.4-.4-.92-.59-1.43-.59-.52 0-1.04.2-1.43.59L10.3 9.45l-7.72 7.72c-.78.78-.78 2.05 0 2.83L4 21.41c.39.39.9.59 1.41.59.51 0 1.02-.2 1.41-.59l7.78-7.78 2.81-2.81c.8-.78.8-2.07 0-2.86zM5.41 20L4 18.59l7.72-7.72 1.47 1.35L5.41 20z\"/>\n",
              "  </svg>\n",
              "      </button>\n",
              "      \n",
              "  <style>\n",
              "    .colab-df-container {\n",
              "      display:flex;\n",
              "      flex-wrap:wrap;\n",
              "      gap: 12px;\n",
              "    }\n",
              "\n",
              "    .colab-df-convert {\n",
              "      background-color: #E8F0FE;\n",
              "      border: none;\n",
              "      border-radius: 50%;\n",
              "      cursor: pointer;\n",
              "      display: none;\n",
              "      fill: #1967D2;\n",
              "      height: 32px;\n",
              "      padding: 0 0 0 0;\n",
              "      width: 32px;\n",
              "    }\n",
              "\n",
              "    .colab-df-convert:hover {\n",
              "      background-color: #E2EBFA;\n",
              "      box-shadow: 0px 1px 2px rgba(60, 64, 67, 0.3), 0px 1px 3px 1px rgba(60, 64, 67, 0.15);\n",
              "      fill: #174EA6;\n",
              "    }\n",
              "\n",
              "    [theme=dark] .colab-df-convert {\n",
              "      background-color: #3B4455;\n",
              "      fill: #D2E3FC;\n",
              "    }\n",
              "\n",
              "    [theme=dark] .colab-df-convert:hover {\n",
              "      background-color: #434B5C;\n",
              "      box-shadow: 0px 1px 3px 1px rgba(0, 0, 0, 0.15);\n",
              "      filter: drop-shadow(0px 1px 2px rgba(0, 0, 0, 0.3));\n",
              "      fill: #FFFFFF;\n",
              "    }\n",
              "  </style>\n",
              "\n",
              "      <script>\n",
              "        const buttonEl =\n",
              "          document.querySelector('#df-9504c957-6104-4224-9e69-eee34cfa0c08 button.colab-df-convert');\n",
              "        buttonEl.style.display =\n",
              "          google.colab.kernel.accessAllowed ? 'block' : 'none';\n",
              "\n",
              "        async function convertToInteractive(key) {\n",
              "          const element = document.querySelector('#df-9504c957-6104-4224-9e69-eee34cfa0c08');\n",
              "          const dataTable =\n",
              "            await google.colab.kernel.invokeFunction('convertToInteractive',\n",
              "                                                     [key], {});\n",
              "          if (!dataTable) return;\n",
              "\n",
              "          const docLinkHtml = 'Like what you see? Visit the ' +\n",
              "            '<a target=\"_blank\" href=https://colab.research.google.com/notebooks/data_table.ipynb>data table notebook</a>'\n",
              "            + ' to learn more about interactive tables.';\n",
              "          element.innerHTML = '';\n",
              "          dataTable['output_type'] = 'display_data';\n",
              "          await google.colab.output.renderOutput(dataTable, element);\n",
              "          const docLink = document.createElement('div');\n",
              "          docLink.innerHTML = docLinkHtml;\n",
              "          element.appendChild(docLink);\n",
              "        }\n",
              "      </script>\n",
              "    </div>\n",
              "  </div>\n",
              "  "
            ]
          },
          "metadata": {},
          "execution_count": 10
        }
      ]
    },
    {
      "cell_type": "code",
      "source": [
        "sales_df.isnull().sum()"
      ],
      "metadata": {
        "id": "NLt7XSG5rwTl",
        "outputId": "eb755a1a-d2c0-4f16-fc31-93338d271f3d",
        "colab": {
          "base_uri": "https://localhost:8080/"
        }
      },
      "execution_count": 11,
      "outputs": [
        {
          "output_type": "execute_result",
          "data": {
            "text/plain": [
              "InvoiceNo          0\n",
              "StockCode          0\n",
              "Description      203\n",
              "Quantity           1\n",
              "InvoiceDate        1\n",
              "UnitPrice          1\n",
              "CustomerID     28278\n",
              "Country            1\n",
              "dtype: int64"
            ]
          },
          "metadata": {},
          "execution_count": 11
        }
      ]
    },
    {
      "cell_type": "markdown",
      "metadata": {
        "id": "kHbNxpzHL905"
      },
      "source": [
        "**MINI CHALLENGE #1:**\n",
        "- **How many unique countries are present in the dataset? List all countries**"
      ]
    },
    {
      "cell_type": "code",
      "metadata": {
        "id": "C2nvW606MWwc",
        "colab": {
          "base_uri": "https://localhost:8080/"
        },
        "outputId": "8d59de78-967c-416f-91e2-75bfaab41eba"
      },
      "source": [
        "# Using unique()  below\n",
        "# https://pandas.pydata.org/docs/reference/api/pandas.Series.unique.html?highlight=unique#pandas.Series.unique\n",
        "\n",
        "sales_df['Country'].unique()"
      ],
      "execution_count": 14,
      "outputs": [
        {
          "output_type": "execute_result",
          "data": {
            "text/plain": [
              "array(['United Kingdom', 'France', 'Australia', 'Netherlands', 'Germany',\n",
              "       'Norway', 'EIRE', 'Switzerland', 'Spain', 'Poland', 'Portugal',\n",
              "       'Italy', 'Belgium', 'Lithuania', 'Japan', 'Iceland',\n",
              "       'Channel Islands', 'Denmark', 'Cyprus', 'Sweden', 'Austria',\n",
              "       'Israel', 'Finland', 'Bahrain', 'Greece', 'Hong Kong', 'Singapore',\n",
              "       'Lebanon', nan], dtype=object)"
            ]
          },
          "metadata": {},
          "execution_count": 14
        }
      ]
    },
    {
      "cell_type": "code",
      "source": [
        "## Alternative \n",
        "sales_df.nunique()"
      ],
      "metadata": {
        "id": "Xlc1tgw7x1al",
        "outputId": "64bc7c3d-db5c-4081-9ba9-205da3665220",
        "colab": {
          "base_uri": "https://localhost:8080/"
        }
      },
      "execution_count": 15,
      "outputs": [
        {
          "output_type": "execute_result",
          "data": {
            "text/plain": [
              "InvoiceNo      3339\n",
              "StockCode      3019\n",
              "Description    2948\n",
              "Quantity        256\n",
              "InvoiceDate    2990\n",
              "UnitPrice       460\n",
              "CustomerID     1340\n",
              "Country          28\n",
              "dtype: int64"
            ]
          },
          "metadata": {},
          "execution_count": 15
        }
      ]
    },
    {
      "cell_type": "markdown",
      "metadata": {
        "id": "GvntzUsa2q9n"
      },
      "source": [
        "# 2. GROUPBY"
      ]
    },
    {
      "cell_type": "code",
      "metadata": {
        "id": "Q6ECCoVR2trv",
        "colab": {
          "base_uri": "https://localhost:8080/",
          "height": 624
        },
        "outputId": "afa88ae7-13d3-4424-f41e-a29698f01676"
      },
      "source": [
        "sales_df"
      ],
      "execution_count": 16,
      "outputs": [
        {
          "output_type": "execute_result",
          "data": {
            "text/plain": [
              "      InvoiceNo StockCode                          Description  Quantity  \\\n",
              "0        536365    85123A   WHITE HANGING HEART T-LIGHT HOLDER       6.0   \n",
              "1        536365     71053                  WHITE METAL LANTERN       6.0   \n",
              "2        536365    84406B       CREAM CUPID HEARTS COAT HANGER       8.0   \n",
              "3        536365    84029G  KNITTED UNION FLAG HOT WATER BOTTLE       6.0   \n",
              "4        536365    84029E       RED WOOLLY HOTTIE WHITE HEART.       6.0   \n",
              "...         ...       ...                                  ...       ...   \n",
              "75101    542541     22124   SET OF 2 TEA TOWELS PING MICROWAVE       1.0   \n",
              "75102    542541     22131     FOOD CONTAINER SET 3 LOVE HEART        1.0   \n",
              "75103    542541     22135           MINI LADLE LOVE HEART PINK       1.0   \n",
              "75104    542541     22148               EASTER CRAFT 4 CHICKS        3.0   \n",
              "75105    542541     22149           FELTCRAFT 6 FLOWER FRIENDS       NaN   \n",
              "\n",
              "              InvoiceDate  UnitPrice  CustomerID         Country  \n",
              "0     2010-12-01 08:26:00       2.55     17850.0  United Kingdom  \n",
              "1     2010-12-01 08:26:00       3.39     17850.0  United Kingdom  \n",
              "2     2010-12-01 08:26:00       2.75     17850.0  United Kingdom  \n",
              "3     2010-12-01 08:26:00       3.39     17850.0  United Kingdom  \n",
              "4     2010-12-01 08:26:00       3.39     17850.0  United Kingdom  \n",
              "...                   ...        ...         ...             ...  \n",
              "75101 2011-01-28 14:25:00       2.46         NaN  United Kingdom  \n",
              "75102 2011-01-28 14:25:00       4.13         NaN  United Kingdom  \n",
              "75103 2011-01-28 14:25:00       0.83         NaN  United Kingdom  \n",
              "75104 2011-01-28 14:25:00       4.13         NaN  United Kingdom  \n",
              "75105                 NaT        NaN         NaN             NaN  \n",
              "\n",
              "[75106 rows x 8 columns]"
            ],
            "text/html": [
              "\n",
              "  <div id=\"df-f5a23f66-db35-4a33-b3cf-02a1edf8111b\">\n",
              "    <div class=\"colab-df-container\">\n",
              "      <div>\n",
              "<style scoped>\n",
              "    .dataframe tbody tr th:only-of-type {\n",
              "        vertical-align: middle;\n",
              "    }\n",
              "\n",
              "    .dataframe tbody tr th {\n",
              "        vertical-align: top;\n",
              "    }\n",
              "\n",
              "    .dataframe thead th {\n",
              "        text-align: right;\n",
              "    }\n",
              "</style>\n",
              "<table border=\"1\" class=\"dataframe\">\n",
              "  <thead>\n",
              "    <tr style=\"text-align: right;\">\n",
              "      <th></th>\n",
              "      <th>InvoiceNo</th>\n",
              "      <th>StockCode</th>\n",
              "      <th>Description</th>\n",
              "      <th>Quantity</th>\n",
              "      <th>InvoiceDate</th>\n",
              "      <th>UnitPrice</th>\n",
              "      <th>CustomerID</th>\n",
              "      <th>Country</th>\n",
              "    </tr>\n",
              "  </thead>\n",
              "  <tbody>\n",
              "    <tr>\n",
              "      <th>0</th>\n",
              "      <td>536365</td>\n",
              "      <td>85123A</td>\n",
              "      <td>WHITE HANGING HEART T-LIGHT HOLDER</td>\n",
              "      <td>6.0</td>\n",
              "      <td>2010-12-01 08:26:00</td>\n",
              "      <td>2.55</td>\n",
              "      <td>17850.0</td>\n",
              "      <td>United Kingdom</td>\n",
              "    </tr>\n",
              "    <tr>\n",
              "      <th>1</th>\n",
              "      <td>536365</td>\n",
              "      <td>71053</td>\n",
              "      <td>WHITE METAL LANTERN</td>\n",
              "      <td>6.0</td>\n",
              "      <td>2010-12-01 08:26:00</td>\n",
              "      <td>3.39</td>\n",
              "      <td>17850.0</td>\n",
              "      <td>United Kingdom</td>\n",
              "    </tr>\n",
              "    <tr>\n",
              "      <th>2</th>\n",
              "      <td>536365</td>\n",
              "      <td>84406B</td>\n",
              "      <td>CREAM CUPID HEARTS COAT HANGER</td>\n",
              "      <td>8.0</td>\n",
              "      <td>2010-12-01 08:26:00</td>\n",
              "      <td>2.75</td>\n",
              "      <td>17850.0</td>\n",
              "      <td>United Kingdom</td>\n",
              "    </tr>\n",
              "    <tr>\n",
              "      <th>3</th>\n",
              "      <td>536365</td>\n",
              "      <td>84029G</td>\n",
              "      <td>KNITTED UNION FLAG HOT WATER BOTTLE</td>\n",
              "      <td>6.0</td>\n",
              "      <td>2010-12-01 08:26:00</td>\n",
              "      <td>3.39</td>\n",
              "      <td>17850.0</td>\n",
              "      <td>United Kingdom</td>\n",
              "    </tr>\n",
              "    <tr>\n",
              "      <th>4</th>\n",
              "      <td>536365</td>\n",
              "      <td>84029E</td>\n",
              "      <td>RED WOOLLY HOTTIE WHITE HEART.</td>\n",
              "      <td>6.0</td>\n",
              "      <td>2010-12-01 08:26:00</td>\n",
              "      <td>3.39</td>\n",
              "      <td>17850.0</td>\n",
              "      <td>United Kingdom</td>\n",
              "    </tr>\n",
              "    <tr>\n",
              "      <th>...</th>\n",
              "      <td>...</td>\n",
              "      <td>...</td>\n",
              "      <td>...</td>\n",
              "      <td>...</td>\n",
              "      <td>...</td>\n",
              "      <td>...</td>\n",
              "      <td>...</td>\n",
              "      <td>...</td>\n",
              "    </tr>\n",
              "    <tr>\n",
              "      <th>75101</th>\n",
              "      <td>542541</td>\n",
              "      <td>22124</td>\n",
              "      <td>SET OF 2 TEA TOWELS PING MICROWAVE</td>\n",
              "      <td>1.0</td>\n",
              "      <td>2011-01-28 14:25:00</td>\n",
              "      <td>2.46</td>\n",
              "      <td>NaN</td>\n",
              "      <td>United Kingdom</td>\n",
              "    </tr>\n",
              "    <tr>\n",
              "      <th>75102</th>\n",
              "      <td>542541</td>\n",
              "      <td>22131</td>\n",
              "      <td>FOOD CONTAINER SET 3 LOVE HEART</td>\n",
              "      <td>1.0</td>\n",
              "      <td>2011-01-28 14:25:00</td>\n",
              "      <td>4.13</td>\n",
              "      <td>NaN</td>\n",
              "      <td>United Kingdom</td>\n",
              "    </tr>\n",
              "    <tr>\n",
              "      <th>75103</th>\n",
              "      <td>542541</td>\n",
              "      <td>22135</td>\n",
              "      <td>MINI LADLE LOVE HEART PINK</td>\n",
              "      <td>1.0</td>\n",
              "      <td>2011-01-28 14:25:00</td>\n",
              "      <td>0.83</td>\n",
              "      <td>NaN</td>\n",
              "      <td>United Kingdom</td>\n",
              "    </tr>\n",
              "    <tr>\n",
              "      <th>75104</th>\n",
              "      <td>542541</td>\n",
              "      <td>22148</td>\n",
              "      <td>EASTER CRAFT 4 CHICKS</td>\n",
              "      <td>3.0</td>\n",
              "      <td>2011-01-28 14:25:00</td>\n",
              "      <td>4.13</td>\n",
              "      <td>NaN</td>\n",
              "      <td>United Kingdom</td>\n",
              "    </tr>\n",
              "    <tr>\n",
              "      <th>75105</th>\n",
              "      <td>542541</td>\n",
              "      <td>22149</td>\n",
              "      <td>FELTCRAFT 6 FLOWER FRIENDS</td>\n",
              "      <td>NaN</td>\n",
              "      <td>NaT</td>\n",
              "      <td>NaN</td>\n",
              "      <td>NaN</td>\n",
              "      <td>NaN</td>\n",
              "    </tr>\n",
              "  </tbody>\n",
              "</table>\n",
              "<p>75106 rows × 8 columns</p>\n",
              "</div>\n",
              "      <button class=\"colab-df-convert\" onclick=\"convertToInteractive('df-f5a23f66-db35-4a33-b3cf-02a1edf8111b')\"\n",
              "              title=\"Convert this dataframe to an interactive table.\"\n",
              "              style=\"display:none;\">\n",
              "        \n",
              "  <svg xmlns=\"http://www.w3.org/2000/svg\" height=\"24px\"viewBox=\"0 0 24 24\"\n",
              "       width=\"24px\">\n",
              "    <path d=\"M0 0h24v24H0V0z\" fill=\"none\"/>\n",
              "    <path d=\"M18.56 5.44l.94 2.06.94-2.06 2.06-.94-2.06-.94-.94-2.06-.94 2.06-2.06.94zm-11 1L8.5 8.5l.94-2.06 2.06-.94-2.06-.94L8.5 2.5l-.94 2.06-2.06.94zm10 10l.94 2.06.94-2.06 2.06-.94-2.06-.94-.94-2.06-.94 2.06-2.06.94z\"/><path d=\"M17.41 7.96l-1.37-1.37c-.4-.4-.92-.59-1.43-.59-.52 0-1.04.2-1.43.59L10.3 9.45l-7.72 7.72c-.78.78-.78 2.05 0 2.83L4 21.41c.39.39.9.59 1.41.59.51 0 1.02-.2 1.41-.59l7.78-7.78 2.81-2.81c.8-.78.8-2.07 0-2.86zM5.41 20L4 18.59l7.72-7.72 1.47 1.35L5.41 20z\"/>\n",
              "  </svg>\n",
              "      </button>\n",
              "      \n",
              "  <style>\n",
              "    .colab-df-container {\n",
              "      display:flex;\n",
              "      flex-wrap:wrap;\n",
              "      gap: 12px;\n",
              "    }\n",
              "\n",
              "    .colab-df-convert {\n",
              "      background-color: #E8F0FE;\n",
              "      border: none;\n",
              "      border-radius: 50%;\n",
              "      cursor: pointer;\n",
              "      display: none;\n",
              "      fill: #1967D2;\n",
              "      height: 32px;\n",
              "      padding: 0 0 0 0;\n",
              "      width: 32px;\n",
              "    }\n",
              "\n",
              "    .colab-df-convert:hover {\n",
              "      background-color: #E2EBFA;\n",
              "      box-shadow: 0px 1px 2px rgba(60, 64, 67, 0.3), 0px 1px 3px 1px rgba(60, 64, 67, 0.15);\n",
              "      fill: #174EA6;\n",
              "    }\n",
              "\n",
              "    [theme=dark] .colab-df-convert {\n",
              "      background-color: #3B4455;\n",
              "      fill: #D2E3FC;\n",
              "    }\n",
              "\n",
              "    [theme=dark] .colab-df-convert:hover {\n",
              "      background-color: #434B5C;\n",
              "      box-shadow: 0px 1px 3px 1px rgba(0, 0, 0, 0.15);\n",
              "      filter: drop-shadow(0px 1px 2px rgba(0, 0, 0, 0.3));\n",
              "      fill: #FFFFFF;\n",
              "    }\n",
              "  </style>\n",
              "\n",
              "      <script>\n",
              "        const buttonEl =\n",
              "          document.querySelector('#df-f5a23f66-db35-4a33-b3cf-02a1edf8111b button.colab-df-convert');\n",
              "        buttonEl.style.display =\n",
              "          google.colab.kernel.accessAllowed ? 'block' : 'none';\n",
              "\n",
              "        async function convertToInteractive(key) {\n",
              "          const element = document.querySelector('#df-f5a23f66-db35-4a33-b3cf-02a1edf8111b');\n",
              "          const dataTable =\n",
              "            await google.colab.kernel.invokeFunction('convertToInteractive',\n",
              "                                                     [key], {});\n",
              "          if (!dataTable) return;\n",
              "\n",
              "          const docLinkHtml = 'Like what you see? Visit the ' +\n",
              "            '<a target=\"_blank\" href=https://colab.research.google.com/notebooks/data_table.ipynb>data table notebook</a>'\n",
              "            + ' to learn more about interactive tables.';\n",
              "          element.innerHTML = '';\n",
              "          dataTable['output_type'] = 'display_data';\n",
              "          await google.colab.output.renderOutput(dataTable, element);\n",
              "          const docLink = document.createElement('div');\n",
              "          docLink.innerHTML = docLinkHtml;\n",
              "          element.appendChild(docLink);\n",
              "        }\n",
              "      </script>\n",
              "    </div>\n",
              "  </div>\n",
              "  "
            ]
          },
          "metadata": {},
          "execution_count": 16
        }
      ]
    },
    {
      "cell_type": "code",
      "metadata": {
        "id": "L-ouZdVz2tvb",
        "colab": {
          "base_uri": "https://localhost:8080/"
        },
        "outputId": "c91a2bdb-0d39-497f-8629-73ff706dbc6b"
      },
      "source": [
        "# A groupby operation involves some combination of splitting the object, applying a function, and combining the results. \n",
        "# This can be used to group large amounts of data and compute operations on these groups.\n",
        "# Link: https://pandas.pydata.org/pandas-docs/stable/reference/api/pandas.DataFrame.groupby.html\n",
        "sales_df.groupby('Country')['UnitPrice'].mean()\n"
      ],
      "execution_count": 17,
      "outputs": [
        {
          "output_type": "execute_result",
          "data": {
            "text/plain": [
              "Country\n",
              "Australia          2.752394\n",
              "Austria            7.235556\n",
              "Bahrain            3.810000\n",
              "Belgium            3.159367\n",
              "Channel Islands    7.321702\n",
              "Cyprus             4.956465\n",
              "Denmark            4.648500\n",
              "EIRE               4.776588\n",
              "Finland            5.223214\n",
              "France             3.548694\n",
              "Germany            3.473134\n",
              "Greece             6.480937\n",
              "Hong Kong          3.137895\n",
              "Iceland            2.712667\n",
              "Israel             4.250000\n",
              "Italy              3.743226\n",
              "Japan              1.903623\n",
              "Lebanon            5.387556\n",
              "Lithuania          2.841143\n",
              "Netherlands        1.993733\n",
              "Norway             1.624694\n",
              "Poland             3.485758\n",
              "Portugal           3.816694\n",
              "Singapore          4.702500\n",
              "Spain              9.849696\n",
              "Sweden             3.171613\n",
              "Switzerland        2.651714\n",
              "United Kingdom     5.757416\n",
              "Name: UnitPrice, dtype: float64"
            ]
          },
          "metadata": {},
          "execution_count": 17
        }
      ]
    },
    {
      "cell_type": "code",
      "metadata": {
        "id": "Den792Gf2tx1",
        "colab": {
          "base_uri": "https://localhost:8080/"
        },
        "outputId": "df8b2787-18fe-45a4-a6a4-87b06558199d"
      },
      "source": [
        "sales_df.groupby('Country')['UnitPrice'].min()"
      ],
      "execution_count": 18,
      "outputs": [
        {
          "output_type": "execute_result",
          "data": {
            "text/plain": [
              "Country\n",
              "Australia          0.36\n",
              "Austria            0.42\n",
              "Bahrain            3.81\n",
              "Belgium            0.12\n",
              "Channel Islands    0.42\n",
              "Cyprus             0.42\n",
              "Denmark            0.42\n",
              "EIRE               0.00\n",
              "Finland            0.29\n",
              "France             0.19\n",
              "Germany            0.00\n",
              "Greece             1.25\n",
              "Hong Kong          0.21\n",
              "Iceland            0.42\n",
              "Israel             1.25\n",
              "Italy              0.42\n",
              "Japan              0.36\n",
              "Lebanon            0.55\n",
              "Lithuania          1.25\n",
              "Netherlands        0.21\n",
              "Norway             0.29\n",
              "Poland             0.42\n",
              "Portugal           0.21\n",
              "Singapore          0.21\n",
              "Spain              0.19\n",
              "Sweden             0.19\n",
              "Switzerland        0.18\n",
              "United Kingdom     0.00\n",
              "Name: UnitPrice, dtype: float64"
            ]
          },
          "metadata": {},
          "execution_count": 18
        }
      ]
    },
    {
      "cell_type": "code",
      "metadata": {
        "id": "ppqf8-XB2t0i",
        "colab": {
          "base_uri": "https://localhost:8080/"
        },
        "outputId": "9ebd236a-f909-42b3-81ae-ac7caa96416b"
      },
      "source": [
        "sales_df.groupby('Country')['UnitPrice'].max()"
      ],
      "execution_count": 19,
      "outputs": [
        {
          "output_type": "execute_result",
          "data": {
            "text/plain": [
              "Country\n",
              "Australia             12.75\n",
              "Austria               40.00\n",
              "Bahrain                3.81\n",
              "Belgium               18.00\n",
              "Channel Islands       50.00\n",
              "Cyprus               125.00\n",
              "Denmark               18.00\n",
              "EIRE                  65.00\n",
              "Finland               40.00\n",
              "France               150.00\n",
              "Germany               34.95\n",
              "Greece                14.95\n",
              "Hong Kong             12.75\n",
              "Iceland               12.75\n",
              "Israel                 7.65\n",
              "Italy                 35.00\n",
              "Japan                  5.95\n",
              "Lebanon               14.95\n",
              "Lithuania              5.95\n",
              "Netherlands           15.00\n",
              "Norway                 8.50\n",
              "Poland                12.75\n",
              "Portugal              28.00\n",
              "Singapore            125.00\n",
              "Spain               1715.85\n",
              "Sweden                40.00\n",
              "Switzerland           40.00\n",
              "United Kingdom     16888.02\n",
              "Name: UnitPrice, dtype: float64"
            ]
          },
          "metadata": {},
          "execution_count": 19
        }
      ]
    },
    {
      "cell_type": "code",
      "metadata": {
        "id": "TFGRhpKb41i6",
        "colab": {
          "base_uri": "https://localhost:8080/"
        },
        "outputId": "09285911-e97f-4ebc-ac62-7b8e3d50cb10"
      },
      "source": [
        "sales_df.groupby('InvoiceDate')['UnitPrice'].mean()"
      ],
      "execution_count": 20,
      "outputs": [
        {
          "output_type": "execute_result",
          "data": {
            "text/plain": [
              "InvoiceDate\n",
              "2010-12-01 08:26:00    3.910000\n",
              "2010-12-01 08:28:00    1.850000\n",
              "2010-12-01 08:34:00    4.833750\n",
              "2010-12-01 08:35:00    5.950000\n",
              "2010-12-01 08:45:00    2.764500\n",
              "                         ...   \n",
              "2011-01-28 13:37:00    5.607097\n",
              "2011-01-28 13:54:00    2.057353\n",
              "2011-01-28 14:07:00    6.100000\n",
              "2011-01-28 14:20:00    5.330000\n",
              "2011-01-28 14:25:00    6.352828\n",
              "Name: UnitPrice, Length: 2990, dtype: float64"
            ]
          },
          "metadata": {},
          "execution_count": 20
        }
      ]
    },
    {
      "cell_type": "code",
      "metadata": {
        "id": "EjDRIhPo2t29",
        "colab": {
          "base_uri": "https://localhost:8080/"
        },
        "outputId": "94b6d02d-c5a2-4f12-9ff7-5b9491130495"
      },
      "source": [
        "sales_df.groupby(['Country', 'InvoiceDate'])['UnitPrice'].mean()"
      ],
      "execution_count": 21,
      "outputs": [
        {
          "output_type": "execute_result",
          "data": {
            "text/plain": [
              "Country         InvoiceDate        \n",
              "Australia       2010-12-01 10:03:00    5.278571\n",
              "                2010-12-08 09:53:00    2.726250\n",
              "                2010-12-14 11:12:00    4.283333\n",
              "                2010-12-17 14:10:00    3.510000\n",
              "                2011-01-06 11:12:00    1.871304\n",
              "                                         ...   \n",
              "United Kingdom  2011-01-28 13:37:00    5.320972\n",
              "                2011-01-28 13:54:00    1.831304\n",
              "                2011-01-28 14:07:00    6.100000\n",
              "                2011-01-28 14:20:00    5.330000\n",
              "                2011-01-28 14:25:00    6.352828\n",
              "Name: UnitPrice, Length: 3033, dtype: float64"
            ]
          },
          "metadata": {},
          "execution_count": 21
        }
      ]
    },
    {
      "cell_type": "code",
      "metadata": {
        "id": "5cE53P4w2t5Y"
      },
      "source": [],
      "execution_count": null,
      "outputs": []
    },
    {
      "cell_type": "markdown",
      "metadata": {
        "id": "KftQG_rRRa2b"
      },
      "source": [
        "**MINI CHALLENGE #2:**\n",
        "- **What is the average, maximum and minimum prices on 2010-12-01 08:34:00**"
      ]
    },
    {
      "cell_type": "code",
      "metadata": {
        "id": "uzp16oavUjL-",
        "colab": {
          "base_uri": "https://localhost:8080/"
        },
        "outputId": "ae7fd8ce-d1a4-4e85-8d0e-bf783022d8b9"
      },
      "source": [
        "sales_df.groupby('InvoiceDate')['UnitPrice'].min()\n",
        "#new = [x for x in out.__iter__()]\n",
        "#new\n",
        "\n",
        "#new = (x for x in out)\n",
        "#new"
      ],
      "execution_count": 45,
      "outputs": [
        {
          "output_type": "execute_result",
          "data": {
            "text/plain": [
              "InvoiceDate\n",
              "2010-12-01 08:26:00    2.55\n",
              "2010-12-01 08:28:00    1.85\n",
              "2010-12-01 08:34:00    1.65\n",
              "2010-12-01 08:35:00    5.95\n",
              "2010-12-01 08:45:00    0.42\n",
              "                       ... \n",
              "2011-01-28 13:37:00    0.85\n",
              "2011-01-28 13:54:00    0.42\n",
              "2011-01-28 14:07:00    1.25\n",
              "2011-01-28 14:20:00    3.29\n",
              "2011-01-28 14:25:00    0.42\n",
              "Name: UnitPrice, Length: 2990, dtype: float64"
            ]
          },
          "metadata": {},
          "execution_count": 45
        }
      ]
    },
    {
      "cell_type": "code",
      "source": [
        "sales_df.groupby('InvoiceDate')['UnitPrice'].max()"
      ],
      "metadata": {
        "id": "KZ9kDAVA7IeS",
        "outputId": "338028ae-c6ac-40f1-8a90-e476375a11ff",
        "colab": {
          "base_uri": "https://localhost:8080/"
        }
      },
      "execution_count": 46,
      "outputs": [
        {
          "output_type": "execute_result",
          "data": {
            "text/plain": [
              "InvoiceDate\n",
              "2010-12-01 08:26:00      7.65\n",
              "2010-12-01 08:28:00      1.85\n",
              "2010-12-01 08:34:00      9.95\n",
              "2010-12-01 08:35:00      5.95\n",
              "2010-12-01 08:45:00     18.00\n",
              "                        ...  \n",
              "2011-01-28 13:37:00     24.96\n",
              "2011-01-28 13:54:00      5.95\n",
              "2011-01-28 14:07:00     10.95\n",
              "2011-01-28 14:20:00      8.29\n",
              "2011-01-28 14:25:00    223.89\n",
              "Name: UnitPrice, Length: 2990, dtype: float64"
            ]
          },
          "metadata": {},
          "execution_count": 46
        }
      ]
    },
    {
      "cell_type": "code",
      "source": [
        "sales_df.groupby('InvoiceDate')['UnitPrice'].mean()"
      ],
      "metadata": {
        "id": "zCY-z0Xk7Iqa",
        "outputId": "efaa65b6-2d2d-4c71-b518-7f9281bd1d9d",
        "colab": {
          "base_uri": "https://localhost:8080/"
        }
      },
      "execution_count": 47,
      "outputs": [
        {
          "output_type": "execute_result",
          "data": {
            "text/plain": [
              "InvoiceDate\n",
              "2010-12-01 08:26:00    3.910000\n",
              "2010-12-01 08:28:00    1.850000\n",
              "2010-12-01 08:34:00    4.833750\n",
              "2010-12-01 08:35:00    5.950000\n",
              "2010-12-01 08:45:00    2.764500\n",
              "                         ...   \n",
              "2011-01-28 13:37:00    5.607097\n",
              "2011-01-28 13:54:00    2.057353\n",
              "2011-01-28 14:07:00    6.100000\n",
              "2011-01-28 14:20:00    5.330000\n",
              "2011-01-28 14:25:00    6.352828\n",
              "Name: UnitPrice, Length: 2990, dtype: float64"
            ]
          },
          "metadata": {},
          "execution_count": 47
        }
      ]
    },
    {
      "cell_type": "code",
      "source": [
        "sales_df.groupby('InvoiceDate')['UnitPrice'].mean()"
      ],
      "metadata": {
        "id": "mfbXusO57Yqy",
        "outputId": "08f8df52-70a2-43ee-a500-6b27473a4c8c",
        "colab": {
          "base_uri": "https://localhost:8080/"
        }
      },
      "execution_count": 49,
      "outputs": [
        {
          "output_type": "execute_result",
          "data": {
            "text/plain": [
              "InvoiceDate\n",
              "2010-12-01 08:26:00    3.910000\n",
              "2010-12-01 08:28:00    1.850000\n",
              "2010-12-01 08:34:00    4.833750\n",
              "2010-12-01 08:35:00    5.950000\n",
              "2010-12-01 08:45:00    2.764500\n",
              "                         ...   \n",
              "2011-01-28 13:37:00    5.607097\n",
              "2011-01-28 13:54:00    2.057353\n",
              "2011-01-28 14:07:00    6.100000\n",
              "2011-01-28 14:20:00    5.330000\n",
              "2011-01-28 14:25:00    6.352828\n",
              "Name: UnitPrice, Length: 2990, dtype: float64"
            ]
          },
          "metadata": {},
          "execution_count": 49
        }
      ]
    },
    {
      "cell_type": "code",
      "source": [
        "out = sales_df.groupby('InvoiceDate')['UnitPrice'].sum()\n",
        "out\n",
        "# https://realpython.com/pandas-groupby/"
      ],
      "metadata": {
        "id": "AqLx6CuS7yu7",
        "outputId": "cc1dcb2e-927c-410b-f78c-cfbc6c3c4cf9",
        "colab": {
          "base_uri": "https://localhost:8080/"
        }
      },
      "execution_count": 57,
      "outputs": [
        {
          "output_type": "execute_result",
          "data": {
            "text/plain": [
              "InvoiceDate\n",
              "2010-12-01 08:26:00     27.37\n",
              "2010-12-01 08:28:00      3.70\n",
              "2010-12-01 08:34:00     77.34\n",
              "2010-12-01 08:35:00      5.95\n",
              "2010-12-01 08:45:00     55.29\n",
              "                        ...  \n",
              "2011-01-28 13:37:00    521.46\n",
              "2011-01-28 13:54:00     69.95\n",
              "2011-01-28 14:07:00     12.20\n",
              "2011-01-28 14:20:00     15.99\n",
              "2011-01-28 14:25:00    628.93\n",
              "Name: UnitPrice, Length: 2990, dtype: float64"
            ]
          },
          "metadata": {},
          "execution_count": 57
        }
      ]
    },
    {
      "cell_type": "code",
      "source": [],
      "metadata": {
        "id": "9NH5HUMr8lpr"
      },
      "execution_count": null,
      "outputs": []
    },
    {
      "cell_type": "markdown",
      "metadata": {
        "id": "Skt-35zeYyDl"
      },
      "source": [
        "# 3. CREATE MULTI-INDEX DATAFRAME"
      ]
    },
    {
      "cell_type": "code",
      "metadata": {
        "id": "SouGsc0BY25T"
      },
      "source": [],
      "execution_count": null,
      "outputs": []
    },
    {
      "cell_type": "code",
      "metadata": {
        "id": "a2Y6U6VlY27-"
      },
      "source": [
        "# You can select any column to be the index for the DataFrame\n",
        "# Use one column only as follows:\n"
      ],
      "execution_count": null,
      "outputs": []
    },
    {
      "cell_type": "code",
      "metadata": {
        "id": "hSedV2YAaWbk"
      },
      "source": [
        "# Let's see how many unique countries are present in the dataframe\n"
      ],
      "execution_count": null,
      "outputs": []
    },
    {
      "cell_type": "code",
      "metadata": {
        "id": "ojE8OQF7Y2_3"
      },
      "source": [
        "# Alternatively, We can have multiple keys (indexes) using Pandas Multi-indexing\n",
        "# Take the columns with the least number of unique values and use it for the outermost index\n",
        "\n",
        "# Let's import the dataset again using Pandas\n"
      ],
      "execution_count": null,
      "outputs": []
    },
    {
      "cell_type": "code",
      "metadata": {
        "id": "lAm9yjqMkazG"
      },
      "source": [
        "# Sort countries to start with alphabetical order\n"
      ],
      "execution_count": null,
      "outputs": []
    },
    {
      "cell_type": "code",
      "metadata": {
        "id": "1MKNr_9WkkQn"
      },
      "source": [
        "# Now you need more than one index to access any element\n"
      ],
      "execution_count": null,
      "outputs": []
    },
    {
      "cell_type": "code",
      "metadata": {
        "id": "ullJMBP6kpi7"
      },
      "source": [],
      "execution_count": null,
      "outputs": []
    },
    {
      "cell_type": "code",
      "metadata": {
        "id": "XpRZZy31kpli"
      },
      "source": [
        "# Multiindex objects\n"
      ],
      "execution_count": null,
      "outputs": []
    },
    {
      "cell_type": "code",
      "metadata": {
        "id": "VWSectKNkpoT"
      },
      "source": [
        "# It gives out the datetime and the country as well\n"
      ],
      "execution_count": null,
      "outputs": []
    },
    {
      "cell_type": "markdown",
      "metadata": {
        "id": "bcjijKoOVy72"
      },
      "source": [
        "**MINI CHALLENGE #3:**\n",
        "- **Sort the DataFrame in a descending order (countries and dates)**"
      ]
    },
    {
      "cell_type": "code",
      "metadata": {
        "id": "g58yGNL-XcyN"
      },
      "source": [],
      "execution_count": null,
      "outputs": []
    },
    {
      "cell_type": "markdown",
      "metadata": {
        "id": "ZXor3Qk3mPbu"
      },
      "source": [
        "# 4. MULTI-INDEXING OPERATIONS - PART #1"
      ]
    },
    {
      "cell_type": "code",
      "metadata": {
        "id": "brgnizTfmaRM"
      },
      "source": [],
      "execution_count": null,
      "outputs": []
    },
    {
      "cell_type": "code",
      "metadata": {
        "id": "sYxbJcZnmVS2"
      },
      "source": [],
      "execution_count": null,
      "outputs": []
    },
    {
      "cell_type": "code",
      "metadata": {
        "id": "M-YKNsOqmVVA"
      },
      "source": [],
      "execution_count": null,
      "outputs": []
    },
    {
      "cell_type": "code",
      "metadata": {
        "id": "uzjCn7gWmVXi"
      },
      "source": [],
      "execution_count": null,
      "outputs": []
    },
    {
      "cell_type": "code",
      "metadata": {
        "id": "7m8lVXpNmVad"
      },
      "source": [],
      "execution_count": null,
      "outputs": []
    },
    {
      "cell_type": "code",
      "metadata": {
        "id": "-NRh69EImVcQ"
      },
      "source": [
        "# You can change the names of the DataFrame by invoking the set_names method\n"
      ],
      "execution_count": null,
      "outputs": []
    },
    {
      "cell_type": "code",
      "metadata": {
        "id": "NaiivrGZaU6A"
      },
      "source": [],
      "execution_count": null,
      "outputs": []
    },
    {
      "cell_type": "markdown",
      "metadata": {
        "id": "YqGCOQvnaVQP"
      },
      "source": [
        "**MINI CHALLENGE #4:**\n",
        "- **Use InvoiceDate and Country in order as the multi-index**\n",
        "- **Change the name of both indexes to \"Date\" and \"location\"**"
      ]
    },
    {
      "cell_type": "code",
      "metadata": {
        "id": "0YwPgE6PalfV"
      },
      "source": [],
      "execution_count": null,
      "outputs": []
    },
    {
      "cell_type": "markdown",
      "metadata": {
        "id": "vHHj-T8RYnu8"
      },
      "source": [
        "# 5. MULTI-INDEXING OPERATIONS - PART #2"
      ]
    },
    {
      "cell_type": "code",
      "metadata": {
        "id": "BIuOHrxCctUX"
      },
      "source": [
        "\n",
        "# Sort countries to start with alphabetical order\n"
      ],
      "execution_count": null,
      "outputs": []
    },
    {
      "cell_type": "code",
      "metadata": {
        "id": "UpKX3zQnmVf8"
      },
      "source": [
        "# you can use a multi-index reference to access specific elements \n",
        "# Alternatively, you can use a column name instead \n"
      ],
      "execution_count": null,
      "outputs": []
    },
    {
      "cell_type": "code",
      "metadata": {
        "id": "0hK5lwwtmVh1"
      },
      "source": [
        "# feed index as a tuple (important to avoid confusion)\n",
        "# first argument references rows and the second argument references a column\n"
      ],
      "execution_count": null,
      "outputs": []
    },
    {
      "cell_type": "code",
      "metadata": {
        "id": "aLsIvuMAbk-H"
      },
      "source": [],
      "execution_count": null,
      "outputs": []
    },
    {
      "cell_type": "code",
      "metadata": {
        "id": "sOQkkZZgoJnK"
      },
      "source": [
        "# no issues with numeric indexing, you can use one index so no tuples are required\n"
      ],
      "execution_count": null,
      "outputs": []
    },
    {
      "cell_type": "code",
      "metadata": {
        "id": "Xk1YPclVoZ1Z"
      },
      "source": [
        "# no issues with numeric indexing\n"
      ],
      "execution_count": null,
      "outputs": []
    },
    {
      "cell_type": "code",
      "metadata": {
        "id": "dar-a3ZjxN7e"
      },
      "source": [
        "# You can use transpose to Transpose indexes and columns\n",
        "# reflect the DataFrame over its main diagonal by writing rows as columns and vice-versa. \n",
        "\n"
      ],
      "execution_count": null,
      "outputs": []
    },
    {
      "cell_type": "code",
      "metadata": {
        "id": "4DhO2mApy_Vq"
      },
      "source": [],
      "execution_count": null,
      "outputs": []
    },
    {
      "cell_type": "code",
      "metadata": {
        "id": "6isf4IJYxN-V"
      },
      "source": [],
      "execution_count": null,
      "outputs": []
    },
    {
      "cell_type": "code",
      "metadata": {
        "id": "CngUVV4GxOBF"
      },
      "source": [],
      "execution_count": null,
      "outputs": []
    },
    {
      "cell_type": "code",
      "metadata": {
        "id": "UJkl3xefxODI"
      },
      "source": [
        "# Let's import the dataset again using Pandas\n"
      ],
      "execution_count": null,
      "outputs": []
    },
    {
      "cell_type": "code",
      "metadata": {
        "id": "kVNZH9HMxOFD"
      },
      "source": [],
      "execution_count": null,
      "outputs": []
    },
    {
      "cell_type": "code",
      "metadata": {
        "id": "YgfeY3DhxOIF"
      },
      "source": [
        "# You can perform swaplevel as follows:\n"
      ],
      "execution_count": null,
      "outputs": []
    },
    {
      "cell_type": "code",
      "metadata": {
        "id": "GuduCmChdhPi"
      },
      "source": [
        "# Perform swaplevel again:\n"
      ],
      "execution_count": null,
      "outputs": []
    },
    {
      "cell_type": "code",
      "metadata": {
        "id": "3T1BADdV0L_c"
      },
      "source": [
        "# Please note that there is no point of adding [False, False] or [True, True]\n"
      ],
      "execution_count": null,
      "outputs": []
    },
    {
      "cell_type": "code",
      "metadata": {
        "id": "K7npiYCt0MC4"
      },
      "source": [],
      "execution_count": null,
      "outputs": []
    },
    {
      "cell_type": "code",
      "metadata": {
        "id": "A3l6wRId0MLN"
      },
      "source": [
        "# only sort by that given level and ignore the others\n"
      ],
      "execution_count": null,
      "outputs": []
    },
    {
      "cell_type": "code",
      "metadata": {
        "id": "kwzW1ONg1mbE"
      },
      "source": [],
      "execution_count": null,
      "outputs": []
    },
    {
      "cell_type": "code",
      "metadata": {
        "id": "Tq4n7jTje9MQ"
      },
      "source": [],
      "execution_count": null,
      "outputs": []
    },
    {
      "cell_type": "markdown",
      "metadata": {
        "id": "kHRHQLLne907"
      },
      "source": [
        "**MINI CHALLENGE #5:**\n",
        "- **Calculate the average unit price for transactions occured in \"United Kingdom\" at \"12/1/2010 8:26\"**"
      ]
    },
    {
      "cell_type": "code",
      "metadata": {
        "id": "jDBN00YtfVsc"
      },
      "source": [],
      "execution_count": null,
      "outputs": []
    },
    {
      "cell_type": "markdown",
      "metadata": {
        "id": "Xq3Dbr58Mb3h"
      },
      "source": [
        "# MINI CHALLENGE SOLUTIONS"
      ]
    },
    {
      "cell_type": "markdown",
      "metadata": {
        "id": "_dIF3jt6MSyz"
      },
      "source": [
        "**MINI CHALLENGE #1 SOLUTION:**\n",
        "- **How many unique countries are present in the dataset? List all countries**"
      ]
    },
    {
      "cell_type": "code",
      "metadata": {
        "id": "CxYxMaTgMEW2"
      },
      "source": [
        "sales_df['Country'].unique()"
      ],
      "execution_count": null,
      "outputs": []
    },
    {
      "cell_type": "code",
      "metadata": {
        "id": "Cj3Zofi_luXO"
      },
      "source": [
        "# Obtain the number of unique values in each column\n",
        "sales_df.nunique()"
      ],
      "execution_count": null,
      "outputs": []
    },
    {
      "cell_type": "code",
      "metadata": {
        "id": "OpbPi_JqSBBl"
      },
      "source": [],
      "execution_count": null,
      "outputs": []
    },
    {
      "cell_type": "markdown",
      "metadata": {
        "id": "apyBbBUVR8dK"
      },
      "source": [
        "**MINI CHALLENGE #2 SOLUTION:**\n",
        "- **What is the average, maximum and minimum prices on 2010-12-01 08:34:00**"
      ]
    },
    {
      "cell_type": "code",
      "metadata": {
        "id": "fjYs-pP4Rqqd"
      },
      "source": [
        "# Min = 0.72 and Max = 1.85\n",
        "sales_df.groupby('InvoiceDate')['UnitPrice'].min()"
      ],
      "execution_count": null,
      "outputs": []
    },
    {
      "cell_type": "code",
      "metadata": {
        "id": "KXdALgis2t8E"
      },
      "source": [
        "sales_df.groupby('InvoiceDate')['UnitPrice'].max()"
      ],
      "execution_count": null,
      "outputs": []
    },
    {
      "cell_type": "code",
      "metadata": {
        "id": "0Tm5hCMxXfDp"
      },
      "source": [],
      "execution_count": null,
      "outputs": []
    },
    {
      "cell_type": "markdown",
      "metadata": {
        "id": "SWyjNrIEXZxk"
      },
      "source": [
        "**MINI CHALLENGE #3 SOLUTION:**\n",
        "- **Sort the DataFrame in a descending order (countries and dates)**"
      ]
    },
    {
      "cell_type": "code",
      "metadata": {
        "id": "vd0IobslVzMz"
      },
      "source": [
        "# Please note that there is no point of adding [False, False] or [True, True]\n",
        "sales_df.sort_index(ascending = False, inplace = True)\n",
        "sales_df"
      ],
      "execution_count": null,
      "outputs": []
    },
    {
      "cell_type": "markdown",
      "metadata": {
        "id": "of5NvqfqaiXW"
      },
      "source": [
        "**MINI CHALLENGE #4 SOLUTION:**\n",
        "- **Use InvoiceDate and Country in order as the multi-index**\n",
        "- **Change the name of both indexes to \"Date\" and \"location\"**"
      ]
    },
    {
      "cell_type": "code",
      "metadata": {
        "id": "0Gf6f1e6YnQj"
      },
      "source": [
        "sales_df = pd.read_csv('ecommerce_sales.csv', encoding = 'unicode_escape')\n",
        "sales_df.set_index(keys = [\"InvoiceDate\", \"Country\"], inplace = True)\n",
        "sales_df"
      ],
      "execution_count": null,
      "outputs": []
    },
    {
      "cell_type": "code",
      "metadata": {
        "id": "0OWcoXGi2EC3"
      },
      "source": [
        "# You can change the names of the DataFrame by invoking the set_names method\n",
        "sales_df.index.set_names(names = ['Date', 'Location'], inplace = True)\n",
        "sales_df"
      ],
      "execution_count": null,
      "outputs": []
    },
    {
      "cell_type": "markdown",
      "metadata": {
        "id": "uXFvqt9PfPup"
      },
      "source": [
        "**MINI CHALLENGE #5 SOLUTION:**\n",
        "- **Calculate the average unit price for transactions occured in \"United Kingdom\" at \"12/1/2010 8:26\"**"
      ]
    },
    {
      "cell_type": "code",
      "metadata": {
        "id": "Mn8Tz0rz1me-"
      },
      "source": [
        "# Let's import the dataset again using Pandas\n",
        "sales_df = pd.read_csv('ecommerce_sales.csv', encoding = 'unicode_escape')\n",
        "sales_df.set_index(keys = [\"Country\", \"InvoiceDate\"], inplace = True)\n",
        "\n",
        "\n",
        "print(sales_df.loc[(\"United Kingdom\", \"12/1/2010 8:26\"), \"UnitPrice\"])\n",
        "\n",
        "# feed index as a tuple (important to avoid confusion)\n",
        "# first argument references rows and the second argument references a column\n",
        "sales_df.loc[(\"United Kingdom\", \"12/1/2010 8:26\"), \"UnitPrice\"].mean()\n"
      ],
      "execution_count": null,
      "outputs": []
    }
  ]
}